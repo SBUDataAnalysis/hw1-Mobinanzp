{
  "nbformat": 4,
  "nbformat_minor": 0,
  "metadata": {
    "colab": {
      "name": "Copy of Set_01.ipynb",
      "provenance": [],
      "collapsed_sections": [
        "03P8_w5l-Qeo",
        "_6aNCn3BEsI9",
        "tabEhDpGF2Oc",
        "I7CQa_pOGqeR",
        "oKPq6XV_Hn_i",
        "k55bka7DJAjh",
        "8ZTtQ6ZnGMOL",
        "mxwqFfuUIh8z",
        "Aljr12tMI-Vl",
        "XRiARr0OJVY-",
        "DL-uBXefKbIS",
        "saZ3z0KYTUWj"
      ]
    },
    "kernelspec": {
      "name": "python3",
      "display_name": "Python 3"
    },
    "language_info": {
      "name": "python"
    }
  },
  "cells": [
    {
      "cell_type": "markdown",
      "source": [
        "The first program"
      ],
      "metadata": {
        "id": "RlM5hY6G-ChB"
      }
    },
    {
      "cell_type": "code",
      "execution_count": null,
      "metadata": {
        "colab": {
          "base_uri": "https://localhost:8080/"
        },
        "id": "0pr3r94U9pKV",
        "outputId": "2046f672-890a-4097-ad77-214478b1d569"
      },
      "outputs": [
        {
          "output_type": "stream",
          "name": "stdout",
          "text": [
            "Hello world!\n"
          ]
        }
      ],
      "source": [
        "print('Hello world!')"
      ]
    },
    {
      "cell_type": "markdown",
      "source": [
        "## Lists, sets and tuples"
      ],
      "metadata": {
        "id": "03P8_w5l-Qeo"
      }
    },
    {
      "cell_type": "code",
      "source": [
        "a = [1, 1, 2, 3, 5, 2, 6, 7, 7, 5]  #This is a list\n",
        "b = {1, 1, 2, 3, 5, 2, 6, 7, 7, 5}  #This is a set\n",
        "c = (1, 1, 2, 3, 5, 2, 6, 7, 7, 5)  #This is a tuple"
      ],
      "metadata": {
        "id": "b62OnUiR-JmP"
      },
      "execution_count": null,
      "outputs": []
    },
    {
      "cell_type": "markdown",
      "source": [
        "Now print each one to see what's the difference between them."
      ],
      "metadata": {
        "id": "BWK-UpXh_mCD"
      }
    },
    {
      "cell_type": "code",
      "source": [
        "print('a =', a)\n",
        "print('b =',b)\n",
        "print('c=',c)"
      ],
      "metadata": {
        "colab": {
          "base_uri": "https://localhost:8080/"
        },
        "id": "IbV7UwrT_Ws4",
        "outputId": "be6abeb0-a410-4e36-b7e3-f0486cbebb20"
      },
      "execution_count": null,
      "outputs": [
        {
          "output_type": "stream",
          "name": "stdout",
          "text": [
            "a = [1, 1, 2, 3, 5, 2, 6, 7, 5, [32, 54, 'Adas']]\n",
            "b = {1, 2, 3, 5, 6, 7}\n",
            "c= (1, 1, 2, 3, 5, 2, 6, 7, 7, 5)\n"
          ]
        }
      ]
    },
    {
      "cell_type": "markdown",
      "source": [
        "As you see, sets behave in the way that we expect from math, they only keep one instance of each member and disregard the rest. We can put all kinds of objects in a set, list or tuple."
      ],
      "metadata": {
        "id": "hxbBiYR-_vOM"
      }
    },
    {
      "cell_type": "code",
      "source": [
        "d = ['Salam', 'Sib', 35.43, 12, b, 'x'+'y', 44]\n",
        "print(d)"
      ],
      "metadata": {
        "colab": {
          "base_uri": "https://localhost:8080/"
        },
        "id": "3A2HVSGk_hyF",
        "outputId": "757f2989-7e28-46c9-9011-534ba2d18d9a"
      },
      "execution_count": null,
      "outputs": [
        {
          "output_type": "stream",
          "name": "stdout",
          "text": [
            "['Salam', 'Sib', 35.43, 12, {1, 2, 3, 5, 6, 7}, 'xy', 44]\n"
          ]
        }
      ]
    },
    {
      "cell_type": "markdown",
      "source": [
        " Also try this for a set and a tuple and print the results."
      ],
      "metadata": {
        "id": "kQ6QFyvABDlu"
      }
    },
    {
      "cell_type": "code",
      "source": [
        "e = { 'Salam', 'Sib', 35.43, 12}\n",
        "#we can't but a list in a set \n",
        "d = ('Salam', 'Sib', 35.43, 12, 44)\n",
        "\n",
        "print(e)\n",
        "print(d)"
      ],
      "metadata": {
        "id": "VPQyjZzfATxQ",
        "outputId": "67152fa3-64aa-435d-ab47-ea97f73d8add",
        "colab": {
          "base_uri": "https://localhost:8080/"
        }
      },
      "execution_count": null,
      "outputs": [
        {
          "output_type": "stream",
          "name": "stdout",
          "text": [
            "{'Salam', 'Sib', 35.43, 12}\n",
            "('Salam', 'Sib', 35.43, 12, 44)\n"
          ]
        }
      ]
    },
    {
      "cell_type": "markdown",
      "source": [
        "Now let's see the differense between lists and tuples."
      ],
      "metadata": {
        "id": "85cvYMhjCM8Z"
      }
    },
    {
      "cell_type": "code",
      "source": [
        "a.append([32, 54, 'Adas'])\n",
        "print(a)"
      ],
      "metadata": {
        "colab": {
          "base_uri": "https://localhost:8080/"
        },
        "id": "OqFUXYSLBTwy",
        "outputId": "c7b0b32a-469c-4fbc-ace3-8ec879abf706"
      },
      "execution_count": null,
      "outputs": [
        {
          "output_type": "stream",
          "name": "stdout",
          "text": [
            "[1, 1, 2, 3, 5, 2, 6, 7, 7, 5, [32, 54, 'Adas']]\n"
          ]
        }
      ]
    },
    {
      "cell_type": "code",
      "source": [
        "a.remove(7)\n",
        "print(a)"
      ],
      "metadata": {
        "colab": {
          "base_uri": "https://localhost:8080/"
        },
        "id": "zoa1EKeRC7d1",
        "outputId": "fdbc7fa8-5c78-4f8b-9756-0d2de5ad2a14"
      },
      "execution_count": null,
      "outputs": [
        {
          "output_type": "stream",
          "name": "stdout",
          "text": [
            "[1, 1, 2, 3, 5, 2, 6, 7, 5, [32, 54, 'Adas']]\n"
          ]
        }
      ]
    },
    {
      "cell_type": "code",
      "source": [
        "c.count(1)"
      ],
      "metadata": {
        "colab": {
          "base_uri": "https://localhost:8080/"
        },
        "id": "oqhRk2cmDHYq",
        "outputId": "425ffa47-da23-4fcb-a46b-0407493def10"
      },
      "execution_count": null,
      "outputs": [
        {
          "output_type": "execute_result",
          "data": {
            "text/plain": [
              "2"
            ]
          },
          "metadata": {},
          "execution_count": 7
        }
      ]
    },
    {
      "cell_type": "markdown",
      "source": [
        "In general, tuples are faster than lists, but lists have many more atributes and options. To see which options either have, type the variable with dot (\".\") after it and wait to see the options. To see what each option will do, you can type a question mark (\"?\") before it and run the cell. Now run the cell below and see what happens."
      ],
      "metadata": {
        "id": "DdHn5DE_DYcT"
      }
    },
    {
      "cell_type": "code",
      "source": [
        "?a.sort"
      ],
      "metadata": {
        "id": "oCXXkeiYDRVU"
      },
      "execution_count": null,
      "outputs": []
    },
    {
      "cell_type": "markdown",
      "source": [
        "Now using the options introduced above, try to make the list \"a\" to look like the tuple \"b\"."
      ],
      "metadata": {
        "id": "lBgLNtc5FBRd"
      }
    },
    {
      "cell_type": "code",
      "source": [
        "a = [1, 1, 2, 3, 5, 2, 6, 7, 7, 5, [32, 54, 'Adas']]\n",
        "a.pop(10)\n",
        "print('a =', a)"
      ],
      "metadata": {
        "id": "xIzDK-nzFRMx",
        "outputId": "92683007-458e-43d1-f7d1-16cccb2317f0",
        "colab": {
          "base_uri": "https://localhost:8080/"
        }
      },
      "execution_count": null,
      "outputs": [
        {
          "output_type": "stream",
          "name": "stdout",
          "text": [
            "a = [1, 1, 2, 3, 5, 2, 6, 7, 7, 5]\n"
          ]
        }
      ]
    },
    {
      "cell_type": "markdown",
      "source": [
        "# Loops and indexing"
      ],
      "metadata": {
        "id": "_6aNCn3BEsI9"
      }
    },
    {
      "cell_type": "markdown",
      "source": [
        "You can access the members of a list (or tuple) with indexing them as follows:"
      ],
      "metadata": {
        "id": "MOyuvrKdE1Uo"
      }
    },
    {
      "cell_type": "code",
      "source": [
        "print('The first member of tuple \"c\" is:', c[0])\n",
        "print('The third member of tuple \"c\" is:', c[2])\n",
        "print('The last member of tuple \"c\" is:', c[-1])\n",
        "print('The third to last member of tuple \"c\" is:',c[-3])"
      ],
      "metadata": {
        "colab": {
          "base_uri": "https://localhost:8080/"
        },
        "id": "1QpIBOKOEXG3",
        "outputId": "c2f4a59c-444d-4e89-973b-6158a53b462d"
      },
      "execution_count": null,
      "outputs": [
        {
          "output_type": "stream",
          "name": "stdout",
          "text": [
            "The first member of tuple \"c\" is: 1\n",
            "The third member of tuple \"c\" is: 2\n",
            "The last member of tuple \"c\" is: 5\n",
            "The third to last member of tuple \"c\" is: 7\n"
          ]
        }
      ]
    },
    {
      "cell_type": "markdown",
      "source": [
        "## For loops\n",
        "Let's see two examples"
      ],
      "metadata": {
        "id": "tabEhDpGF2Oc"
      }
    },
    {
      "cell_type": "code",
      "source": [
        "for i in range(5):\n",
        "  print(i)"
      ],
      "metadata": {
        "colab": {
          "base_uri": "https://localhost:8080/"
        },
        "id": "jpW9oM01FfdT",
        "outputId": "0f9807ce-01fe-4d3d-c103-93135e081bd7"
      },
      "execution_count": null,
      "outputs": [
        {
          "output_type": "stream",
          "name": "stdout",
          "text": [
            "0\n",
            "1\n",
            "2\n",
            "3\n",
            "4\n"
          ]
        }
      ]
    },
    {
      "cell_type": "code",
      "source": [
        "for cc in c:\n",
        "  print(cc**2)"
      ],
      "metadata": {
        "colab": {
          "base_uri": "https://localhost:8080/"
        },
        "id": "O5_YYt9uGDfk",
        "outputId": "f95cceba-ffad-41ad-fc0c-9fa0cdeda423"
      },
      "execution_count": null,
      "outputs": [
        {
          "output_type": "stream",
          "name": "stdout",
          "text": [
            "1\n",
            "1\n",
            "4\n",
            "9\n",
            "25\n",
            "4\n",
            "36\n",
            "49\n",
            "49\n",
            "25\n"
          ]
        }
      ]
    },
    {
      "cell_type": "markdown",
      "source": [
        "Now write a code to print the members of \"a\" list defiend as below in reverse order."
      ],
      "metadata": {
        "id": "Ewev8_ZtGU9w"
      }
    },
    {
      "cell_type": "code",
      "source": [
        "a = [1, 1, 2, 3, 5, 2, 6, 7, 7, 5, [32, 54, 'Adas']]\n",
        "\n",
        "for i in range(1, 12):\n",
        " print (a[-i])"
      ],
      "metadata": {
        "id": "tPYkPZgTGRBz",
        "outputId": "c8b9f986-b4c2-4c3f-ab6f-aaa03834476f",
        "colab": {
          "base_uri": "https://localhost:8080/"
        }
      },
      "execution_count": null,
      "outputs": [
        {
          "output_type": "stream",
          "name": "stdout",
          "text": [
            "[32, 54, 'Adas']\n",
            "5\n",
            "7\n",
            "7\n",
            "6\n",
            "2\n",
            "5\n",
            "3\n",
            "2\n",
            "1\n",
            "1\n"
          ]
        }
      ]
    },
    {
      "cell_type": "markdown",
      "source": [
        "## While loops\n",
        "It runs while the argument is true. Compelete the code below to get the desired result."
      ],
      "metadata": {
        "id": "I7CQa_pOGqeR"
      }
    },
    {
      "cell_type": "code",
      "source": [
        "i = 10\n",
        "while i >= 0:\n",
        "  print(a[i])\n",
        "  i=i-1"
      ],
      "metadata": {
        "colab": {
          "base_uri": "https://localhost:8080/"
        },
        "id": "0pQ3WhhCGn6h",
        "outputId": "fc4e90f6-e141-4dda-aecd-0a4cda6ab4ae"
      },
      "execution_count": null,
      "outputs": [
        {
          "output_type": "stream",
          "name": "stdout",
          "text": [
            "[32, 54, 'Adas']\n",
            "5\n",
            "7\n",
            "7\n",
            "6\n",
            "2\n",
            "5\n",
            "3\n",
            "2\n",
            "1\n",
            "1\n"
          ]
        }
      ]
    },
    {
      "cell_type": "markdown",
      "source": [
        "# if, else, elif"
      ],
      "metadata": {
        "id": "oKPq6XV_Hn_i"
      }
    },
    {
      "cell_type": "code",
      "source": [
        "x = 5\n",
        "\n",
        "if x > 5:\n",
        "  print('Yay!!')\n",
        "\n",
        "elif x < 5:\n",
        "  print(\"Nay :(\")\n",
        "\n",
        "else:\n",
        "  print(\"Meh..\")"
      ],
      "metadata": {
        "colab": {
          "base_uri": "https://localhost:8080/"
        },
        "id": "Nnq513PxHOpD",
        "outputId": "91349af0-b41f-4f4f-e872-8e2bc375684f"
      },
      "execution_count": null,
      "outputs": [
        {
          "output_type": "stream",
          "name": "stdout",
          "text": [
            "Meh..\n"
          ]
        }
      ]
    },
    {
      "cell_type": "markdown",
      "source": [
        "Now using the example provided above and your knowledge of loops, write a piece of code to print the apropriate messages for each member of the tuple \"c\". "
      ],
      "metadata": {
        "id": "H27B7x6oIOj6"
      }
    },
    {
      "cell_type": "code",
      "source": [
        "c = (1, 1, 2, 3, 5, 2, 6, 7, 7, 5)\n",
        "for i in c:\n",
        "  if i>5:\n",
        "    print('Yay!')\n",
        "\n",
        "  elif i<5:\n",
        "    print('Nay :(')\n",
        "\n",
        "  else:\n",
        "    print ('Meh..')"
      ],
      "metadata": {
        "id": "qtUvveC4IMh5",
        "outputId": "643f4df9-c837-4bae-801b-00eafaa4db78",
        "colab": {
          "base_uri": "https://localhost:8080/"
        }
      },
      "execution_count": null,
      "outputs": [
        {
          "output_type": "stream",
          "name": "stdout",
          "text": [
            "Nay :(\n",
            "Nay :(\n",
            "Nay :(\n",
            "Nay :(\n",
            "Meh..\n",
            "Nay :(\n",
            "Yay!\n",
            "Yay!\n",
            "Yay!\n",
            "Meh..\n"
          ]
        }
      ]
    },
    {
      "cell_type": "markdown",
      "source": [
        "# Libraries"
      ],
      "metadata": {
        "id": "k55bka7DJAjh"
      }
    },
    {
      "cell_type": "markdown",
      "source": [
        "Libraries are collections of many pre-written programs that enable us to write code much more easily. In other words, it's like importing a library expands available python commands.\n",
        "\n",
        "There are three ways to import commands from library.\n",
        "\n",
        "### 1) Import the whole library"
      ],
      "metadata": {
        "id": "8ZTtQ6ZnGMOL"
      }
    },
    {
      "cell_type": "code",
      "source": [
        "import time"
      ],
      "metadata": {
        "id": "ocTrk5zdJEli"
      },
      "execution_count": null,
      "outputs": []
    },
    {
      "cell_type": "markdown",
      "source": [
        "Now we can use the commands inside \"time\" by using the familirar \"dot\" operator."
      ],
      "metadata": {
        "id": "qOaiUuJKHBZE"
      }
    },
    {
      "cell_type": "code",
      "source": [
        "print(time.localtime())"
      ],
      "metadata": {
        "colab": {
          "base_uri": "https://localhost:8080/"
        },
        "id": "AX7uLHGSHVBo",
        "outputId": "d2627954-5d7f-4cbb-8687-f5e3b732f188"
      },
      "execution_count": null,
      "outputs": [
        {
          "output_type": "stream",
          "name": "stdout",
          "text": [
            "time.struct_time(tm_year=2022, tm_mon=2, tm_mday=25, tm_hour=15, tm_min=59, tm_sec=0, tm_wday=4, tm_yday=56, tm_isdst=0)\n"
          ]
        }
      ]
    },
    {
      "cell_type": "markdown",
      "source": [
        "### 2) Import certain functions (or classes) from a library"
      ],
      "metadata": {
        "id": "mxwqFfuUIh8z"
      }
    },
    {
      "cell_type": "code",
      "source": [
        "from math import pi, sin"
      ],
      "metadata": {
        "id": "fvhfYqyfIVJO"
      },
      "execution_count": null,
      "outputs": []
    },
    {
      "cell_type": "code",
      "source": [
        "print(sin(pi/2))"
      ],
      "metadata": {
        "colab": {
          "base_uri": "https://localhost:8080/"
        },
        "id": "LpVcic_mI4tG",
        "outputId": "492cd279-581b-4b74-f612-2ebd00b3f93c"
      },
      "execution_count": null,
      "outputs": [
        {
          "output_type": "stream",
          "name": "stdout",
          "text": [
            "1.0\n"
          ]
        }
      ]
    },
    {
      "cell_type": "markdown",
      "source": [
        "### 3) Import the whole library or certain commands with a different name"
      ],
      "metadata": {
        "id": "Aljr12tMI-Vl"
      }
    },
    {
      "cell_type": "code",
      "source": [
        "import numpy as np\n",
        "from matplotlib import pyplot as plt"
      ],
      "metadata": {
        "id": "iSpdWAgCI7S6"
      },
      "execution_count": null,
      "outputs": []
    },
    {
      "cell_type": "markdown",
      "source": [
        "We are going to learn how to use these two libraries in the next section.\n",
        "\n",
        "## Installing new libraries in Google colab\n",
        "\n",
        "To do this you need the command \"pip\"."
      ],
      "metadata": {
        "id": "XRiARr0OJVY-"
      }
    },
    {
      "cell_type": "code",
      "source": [
        "!pip install sxs"
      ],
      "metadata": {
        "id": "bcFsepOnJROc",
        "outputId": "e237ab48-f759-47fe-f87b-81dcdffae086",
        "colab": {
          "base_uri": "https://localhost:8080/"
        }
      },
      "execution_count": null,
      "outputs": [
        {
          "output_type": "stream",
          "name": "stdout",
          "text": [
            "Requirement already satisfied: sxs in /usr/local/lib/python3.7/dist-packages (2021.0.5)\n",
            "Requirement already satisfied: requests<3.0.0,>=2.24.0 in /usr/local/lib/python3.7/dist-packages (from sxs) (2.27.1)\n",
            "Requirement already satisfied: black>=20.8b1 in /usr/local/lib/python3.7/dist-packages (from sxs) (22.1.0)\n",
            "Requirement already satisfied: h5py<4,>=3 in /usr/local/lib/python3.7/dist-packages (from sxs) (3.1.0)\n",
            "Requirement already satisfied: importlib-metadata<2.0,>=1.0 in /usr/local/lib/python3.7/dist-packages (from sxs) (1.7.0)\n",
            "Requirement already satisfied: numba>=0.50 in /usr/local/lib/python3.7/dist-packages (from sxs) (0.51.2)\n",
            "Requirement already satisfied: scipy<2.0,>=1.0 in /usr/local/lib/python3.7/dist-packages (from sxs) (1.4.1)\n",
            "Requirement already satisfied: spherical<2.0,>=1.0 in /usr/local/lib/python3.7/dist-packages (from sxs) (1.0.10)\n",
            "Requirement already satisfied: pytest-forked<2.0.0,>=1.3.0 in /usr/local/lib/python3.7/dist-packages (from sxs) (1.4.0)\n",
            "Requirement already satisfied: pytz<2021.0,>=2020.1 in /usr/local/lib/python3.7/dist-packages (from sxs) (2020.5)\n",
            "Requirement already satisfied: inflection<0.6.0,>=0.5.1 in /usr/local/lib/python3.7/dist-packages (from sxs) (0.5.1)\n",
            "Requirement already satisfied: feedparser<7.0.0,>=6.0.1 in /usr/local/lib/python3.7/dist-packages (from sxs) (6.0.8)\n",
            "Requirement already satisfied: pandas<2.0.0,>=1.1.2 in /usr/local/lib/python3.7/dist-packages (from sxs) (1.3.5)\n",
            "Requirement already satisfied: spinsfast<105,>=104 in /usr/local/lib/python3.7/dist-packages (from sxs) (104.2021.3.22.15.7.51)\n",
            "Requirement already satisfied: urllib3<2.0.0,>=1.25.10 in /usr/local/lib/python3.7/dist-packages (from sxs) (1.26.8)\n",
            "Requirement already satisfied: numpy<2.0,>=1.15 in /usr/local/lib/python3.7/dist-packages (from sxs) (1.21.5)\n",
            "Requirement already satisfied: pylatexenc<3.0,>=2.7 in /usr/local/lib/python3.7/dist-packages (from sxs) (2.10)\n",
            "Requirement already satisfied: quaternionic<2.0,>=1.0 in /usr/local/lib/python3.7/dist-packages (from sxs) (1.0.1)\n",
            "Requirement already satisfied: tqdm<4.61.2,>=4.48.2 in /usr/local/lib/python3.7/dist-packages (from sxs) (4.61.1)\n",
            "Requirement already satisfied: click>=8.0.0 in /usr/local/lib/python3.7/dist-packages (from black>=20.8b1->sxs) (8.0.4)\n",
            "Requirement already satisfied: tomli>=1.1.0 in /usr/local/lib/python3.7/dist-packages (from black>=20.8b1->sxs) (2.0.1)\n",
            "Requirement already satisfied: typed-ast>=1.4.2 in /usr/local/lib/python3.7/dist-packages (from black>=20.8b1->sxs) (1.5.2)\n",
            "Requirement already satisfied: typing-extensions>=3.10.0.0 in /usr/local/lib/python3.7/dist-packages (from black>=20.8b1->sxs) (3.10.0.2)\n",
            "Requirement already satisfied: platformdirs>=2 in /usr/local/lib/python3.7/dist-packages (from black>=20.8b1->sxs) (2.5.1)\n",
            "Requirement already satisfied: mypy-extensions>=0.4.3 in /usr/local/lib/python3.7/dist-packages (from black>=20.8b1->sxs) (0.4.3)\n",
            "Requirement already satisfied: pathspec>=0.9.0 in /usr/local/lib/python3.7/dist-packages (from black>=20.8b1->sxs) (0.9.0)\n",
            "Requirement already satisfied: sgmllib3k in /usr/local/lib/python3.7/dist-packages (from feedparser<7.0.0,>=6.0.1->sxs) (1.0.0)\n",
            "Requirement already satisfied: cached-property in /usr/local/lib/python3.7/dist-packages (from h5py<4,>=3->sxs) (1.5.2)\n",
            "Requirement already satisfied: zipp>=0.5 in /usr/local/lib/python3.7/dist-packages (from importlib-metadata<2.0,>=1.0->sxs) (3.7.0)\n",
            "Requirement already satisfied: llvmlite<0.35,>=0.34.0.dev0 in /usr/local/lib/python3.7/dist-packages (from numba>=0.50->sxs) (0.34.0)\n",
            "Requirement already satisfied: setuptools in /usr/local/lib/python3.7/dist-packages (from numba>=0.50->sxs) (57.4.0)\n",
            "Requirement already satisfied: python-dateutil>=2.7.3 in /usr/local/lib/python3.7/dist-packages (from pandas<2.0.0,>=1.1.2->sxs) (2.8.2)\n",
            "Requirement already satisfied: py in /usr/local/lib/python3.7/dist-packages (from pytest-forked<2.0.0,>=1.3.0->sxs) (1.11.0)\n",
            "Requirement already satisfied: pytest>=3.10 in /usr/local/lib/python3.7/dist-packages (from pytest-forked<2.0.0,>=1.3.0->sxs) (7.0.1)\n",
            "Requirement already satisfied: pluggy<2.0,>=0.12 in /usr/local/lib/python3.7/dist-packages (from pytest>=3.10->pytest-forked<2.0.0,>=1.3.0->sxs) (1.0.0)\n",
            "Requirement already satisfied: attrs>=19.2.0 in /usr/local/lib/python3.7/dist-packages (from pytest>=3.10->pytest-forked<2.0.0,>=1.3.0->sxs) (21.4.0)\n",
            "Requirement already satisfied: packaging in /usr/local/lib/python3.7/dist-packages (from pytest>=3.10->pytest-forked<2.0.0,>=1.3.0->sxs) (21.3)\n",
            "Requirement already satisfied: iniconfig in /usr/local/lib/python3.7/dist-packages (from pytest>=3.10->pytest-forked<2.0.0,>=1.3.0->sxs) (1.1.1)\n",
            "Requirement already satisfied: six>=1.5 in /usr/local/lib/python3.7/dist-packages (from python-dateutil>=2.7.3->pandas<2.0.0,>=1.1.2->sxs) (1.15.0)\n",
            "Requirement already satisfied: idna<4,>=2.5 in /usr/local/lib/python3.7/dist-packages (from requests<3.0.0,>=2.24.0->sxs) (2.10)\n",
            "Requirement already satisfied: certifi>=2017.4.17 in /usr/local/lib/python3.7/dist-packages (from requests<3.0.0,>=2.24.0->sxs) (2021.10.8)\n",
            "Requirement already satisfied: charset-normalizer~=2.0.0 in /usr/local/lib/python3.7/dist-packages (from requests<3.0.0,>=2.24.0->sxs) (2.0.12)\n",
            "Requirement already satisfied: pyparsing!=3.0.5,>=2.0.2 in /usr/local/lib/python3.7/dist-packages (from packaging->pytest>=3.10->pytest-forked<2.0.0,>=1.3.0->sxs) (3.0.7)\n"
          ]
        }
      ]
    },
    {
      "cell_type": "markdown",
      "source": [
        "'sxs' is a library for simulation gravitational waves. We won't be needing this in this course."
      ],
      "metadata": {
        "id": "uGJRJ9JzKQ2F"
      }
    },
    {
      "cell_type": "markdown",
      "source": [
        "# Numpy\n",
        "\n",
        "Numpy is the standard library for doing numerical calculations for scientific purposes in python. It provides a new kind of data sructure called \"numpy array\". While it is more restrictive that normal python lists, it enables us to do vector operations which is (for the most part) much faster. It also provides a wide range of mathematical and statistical operations for the arrys. Let's import numpy and see some examples."
      ],
      "metadata": {
        "id": "DL-uBXefKbIS"
      }
    },
    {
      "cell_type": "code",
      "source": [
        "import numpy as np"
      ],
      "metadata": {
        "id": "B7kpoan6JsM8"
      },
      "execution_count": null,
      "outputs": []
    },
    {
      "cell_type": "code",
      "source": [
        "a = np.array([1, 1, 2, 3, 5, 8, 13, 21, 34])\n",
        "print(a)"
      ],
      "metadata": {
        "colab": {
          "base_uri": "https://localhost:8080/"
        },
        "id": "DaElHodKQIz3",
        "outputId": "7d9aa62e-d714-4c05-d64c-4c6e1ee9e538"
      },
      "execution_count": null,
      "outputs": [
        {
          "output_type": "stream",
          "name": "stdout",
          "text": [
            "[ 1  1  2  3  5  8 13 21 34]\n"
          ]
        }
      ]
    },
    {
      "cell_type": "code",
      "source": [
        "print(np.sum(a))"
      ],
      "metadata": {
        "colab": {
          "base_uri": "https://localhost:8080/"
        },
        "id": "nle3HxRYQVBp",
        "outputId": "94a95c34-dc73-455d-ec14-db9f9b6e303d"
      },
      "execution_count": null,
      "outputs": [
        {
          "output_type": "stream",
          "name": "stdout",
          "text": [
            "88\n"
          ]
        }
      ]
    },
    {
      "cell_type": "code",
      "source": [
        "a.max()"
      ],
      "metadata": {
        "colab": {
          "base_uri": "https://localhost:8080/"
        },
        "id": "wusgbQ1KQae5",
        "outputId": "9de8fa11-636e-4d4f-8375-fa58d9a139d7"
      },
      "execution_count": null,
      "outputs": [
        {
          "output_type": "execute_result",
          "data": {
            "text/plain": [
              "34"
            ]
          },
          "metadata": {},
          "execution_count": 4
        }
      ]
    },
    {
      "cell_type": "code",
      "source": [
        "a.mean()"
      ],
      "metadata": {
        "colab": {
          "base_uri": "https://localhost:8080/"
        },
        "id": "RkYpGT6PQf5R",
        "outputId": "ebd27e0e-7d03-471f-aa5f-c810da38f085"
      },
      "execution_count": null,
      "outputs": [
        {
          "output_type": "execute_result",
          "data": {
            "text/plain": [
              "9.777777777777779"
            ]
          },
          "metadata": {},
          "execution_count": 5
        }
      ]
    },
    {
      "cell_type": "markdown",
      "source": [
        "And for some vectorized operations:"
      ],
      "metadata": {
        "id": "7R38qRnARVC0"
      }
    },
    {
      "cell_type": "code",
      "source": [
        "print(3 * a)"
      ],
      "metadata": {
        "colab": {
          "base_uri": "https://localhost:8080/"
        },
        "id": "SQ26mSiBQisy",
        "outputId": "058faa30-e047-48b1-e3c6-bc663eba108e"
      },
      "execution_count": null,
      "outputs": [
        {
          "output_type": "stream",
          "name": "stdout",
          "text": [
            "[  3   3   6   9  15  24  39  63 102]\n"
          ]
        }
      ]
    },
    {
      "cell_type": "code",
      "source": [
        "b = np.ones(len(a))\n",
        "print(b)"
      ],
      "metadata": {
        "colab": {
          "base_uri": "https://localhost:8080/"
        },
        "id": "5k_XVQbpReDR",
        "outputId": "afe7f2bd-2e33-42f8-e6bd-ed48acf65b47"
      },
      "execution_count": null,
      "outputs": [
        {
          "output_type": "stream",
          "name": "stdout",
          "text": [
            "[1. 1. 1. 1. 1. 1. 1. 1. 1.]\n"
          ]
        }
      ]
    },
    {
      "cell_type": "code",
      "source": [
        "print(a + b)"
      ],
      "metadata": {
        "colab": {
          "base_uri": "https://localhost:8080/"
        },
        "id": "yWAPPwt9Rkux",
        "outputId": "5fa30112-0ab5-4b61-ec8c-9c70799f1a89"
      },
      "execution_count": null,
      "outputs": [
        {
          "output_type": "stream",
          "name": "stdout",
          "text": [
            "[ 2.  2.  3.  4.  6.  9. 14. 22. 35.]\n"
          ]
        }
      ]
    },
    {
      "cell_type": "code",
      "source": [
        "for i in range(len(a)):\n",
        "  print(a[i] + b[i])"
      ],
      "metadata": {
        "colab": {
          "base_uri": "https://localhost:8080/"
        },
        "id": "UcqXY3VrRpmz",
        "outputId": "89a2426f-1000-4a31-b80c-6f4596b32546"
      },
      "execution_count": null,
      "outputs": [
        {
          "output_type": "stream",
          "name": "stdout",
          "text": [
            "2.0\n",
            "2.0\n",
            "3.0\n",
            "4.0\n",
            "6.0\n",
            "9.0\n",
            "14.0\n",
            "22.0\n",
            "35.0\n"
          ]
        }
      ]
    },
    {
      "cell_type": "markdown",
      "source": [
        "As you might have noticed, array \"a\" shows the first 9 Fibonacci numbers. Now write a piece of code to turn b into a."
      ],
      "metadata": {
        "id": "cKyYeSrzR0pp"
      }
    },
    {
      "cell_type": "code",
      "source": [
        "b = np.ones(len(a))\n",
        "for i in range (2, len(b)):\n",
        "  b[i] = b[i-1] + b[i-2]\n",
        "    \n",
        "print(b)"
      ],
      "metadata": {
        "id": "Z8eITGJVRxYq",
        "outputId": "6de52bb9-2652-4ddf-b35d-799cd13e3c12",
        "colab": {
          "base_uri": "https://localhost:8080/"
        }
      },
      "execution_count": null,
      "outputs": [
        {
          "output_type": "stream",
          "name": "stdout",
          "text": [
            "[ 1.  1.  2.  3.  5.  8. 13. 21. 34. 55. 89.]\n"
          ]
        }
      ]
    },
    {
      "cell_type": "markdown",
      "source": [
        "As another exercise, make a numpy array of size 100 using \"linspace\" between 0 and 2$\\pi$, and calculate the sine of each member in a vectorized manner and put it in a new array."
      ],
      "metadata": {
        "id": "spvEllTiSrS9"
      }
    },
    {
      "cell_type": "code",
      "source": [
        "x = np.linspace(0, 2*pi, 100)\n",
        "y = np.sin(x)"
      ],
      "metadata": {
        "id": "eNVqlpgMSjIJ"
      },
      "execution_count": null,
      "outputs": []
    },
    {
      "cell_type": "markdown",
      "source": [
        "# Matplotlib\n",
        "\n",
        "Matplotlib is a library used for simple plotting. It is basically the python version of Matlab plot and is sufficient for most scientific purposes. There are also more advanced plotting libraries like \"Seaborn\" and \"Plotly\"."
      ],
      "metadata": {
        "id": "saZ3z0KYTUWj"
      }
    },
    {
      "cell_type": "code",
      "source": [
        "import matplotlib.pyplot as plt"
      ],
      "metadata": {
        "id": "02HbUlGcTV8A"
      },
      "execution_count": null,
      "outputs": []
    },
    {
      "cell_type": "markdown",
      "source": [
        "Now lt's plot the sine function we made above"
      ],
      "metadata": {
        "id": "lQFAQDrL7wSF"
      }
    },
    {
      "cell_type": "code",
      "source": [
        "plt.plot(x, y)\n",
        "plt.xlabel('x axis', fontsize=15)\n",
        "plt.ylabel('y axis', fontsize=15)\n",
        "plt.title(\"Sin(x)\")\n",
        "plt.plot(label='sin(x)')"
      ],
      "metadata": {
        "colab": {
          "base_uri": "https://localhost:8080/",
          "height": 317
        },
        "id": "r9TQM6lx7OE6",
        "outputId": "c5d8331a-4e9e-448c-eca8-506a4c30720e"
      },
      "execution_count": null,
      "outputs": [
        {
          "output_type": "execute_result",
          "data": {
            "text/plain": [
              "[]"
            ]
          },
          "metadata": {},
          "execution_count": 44
        },
        {
          "output_type": "display_data",
          "data": {
            "image/png": "[encoded data removed]",
            "text/plain": [
              "<Figure size 432x288 with 1 Axes>"
            ]
          },
          "metadata": {
            "needs_background": "light"
          }
        }
      ]
    },
    {
      "cell_type": "markdown",
      "source": [
        "This is the basic plotting function. you can add labels, legends, change fonts, etc..\n",
        "\n",
        "As an exercise, add labels for the x and y axes to the plot above, and also label the line."
      ],
      "metadata": {
        "id": "CXqyajxWB8B9"
      }
    },
    {
      "cell_type": "markdown",
      "source": [
        "# Reading and writing files using numpy"
      ],
      "metadata": {
        "id": "iFsiIHEhCTV1"
      }
    },
    {
      "cell_type": "markdown",
      "source": [
        "For reading and writing text files with numpy, we can use \"readtxt\" and \"savetxt\" commands. Let's see some examples."
      ],
      "metadata": {
        "id": "YvU9h3qB4mTh"
      }
    },
    {
      "cell_type": "code",
      "source": [
        "data_to_save = np.column_stack((x, y))\n",
        "np.savetxt('sine_function', data_to_save)"
      ],
      "metadata": {
        "id": "2F9Aj3U2B5lm"
      },
      "execution_count": null,
      "outputs": []
    },
    {
      "cell_type": "markdown",
      "source": [
        "Now for exercise, try to save the data with a header."
      ],
      "metadata": {
        "id": "za8hZb0-6JQA"
      }
    },
    {
      "cell_type": "code",
      "source": [
        "data_to_read = np.loadtxt('sine_function')"
      ],
      "metadata": {
        "id": "PTbnSI7f5fFm"
      },
      "execution_count": null,
      "outputs": []
    },
    {
      "cell_type": "markdown",
      "source": [
        "To see whether it's the same data or not, we can plot it."
      ],
      "metadata": {
        "id": "E-Kk80Rx6cz_"
      }
    },
    {
      "cell_type": "code",
      "source": [
        "plt.plot(data_to_read[:,0], data_to_read[:,1])\n",
        "plt.show()"
      ],
      "metadata": {
        "colab": {
          "base_uri": "https://localhost:8080/",
          "height": 265
        },
        "id": "XAxnOkuY6bs8",
        "outputId": "af73c503-554c-496d-e4c8-1b3788315d84"
      },
      "execution_count": null,
      "outputs": [
        {
          "output_type": "display_data",
          "data": {
            "image/png": "[encoded data removed]",
            "text/plain": [
              "<Figure size 432x288 with 1 Axes>"
            ]
          },
          "metadata": {
            "needs_background": "light"
          }
        }
      ]
    },
    {
      "cell_type": "markdown",
      "source": [
        "Now as an exercise, try to read the file into twe seperate variables. (insted of having just \"data_to_read\" read it into \"x\" and \"y\", each corresponding to an axis."
      ],
      "metadata": {
        "id": "6GeMrWtQ7DPQ"
      }
    },
    {
      "cell_type": "markdown",
      "source": [
        "# Functions"
      ],
      "metadata": {
        "id": "xmDKg62f7W_7"
      }
    },
    {
      "cell_type": "markdown",
      "source": [
        "Functions in python, are defined using the command \"def\". If a variable is defined inside of a function, when we run that function, the variable is local and it's value is lost when we retrun the function. On the other hand if we do not define a variable tha we use in a function, function tries to read a globally defined variable with the same name. If it is not defined before running the function, we will see an error.\n",
        "\n",
        "As an example, let's define a function that returns the sum of two input variables."
      ],
      "metadata": {
        "id": "PxzTkElg7g6U"
      }
    },
    {
      "cell_type": "code",
      "source": [
        "def my_sum_function(x, y):\n",
        "  return x + y"
      ],
      "metadata": {
        "id": "AyPpaWAa6tn4"
      },
      "execution_count": null,
      "outputs": []
    },
    {
      "cell_type": "code",
      "source": [
        "my_sum_function(10, 12)"
      ],
      "metadata": {
        "colab": {
          "base_uri": "https://localhost:8080/"
        },
        "id": "ei-6Gq_B8xCO",
        "outputId": "3a14de9f-188b-4797-ab0e-defe79bf7c71"
      },
      "execution_count": null,
      "outputs": [
        {
          "output_type": "execute_result",
          "data": {
            "text/plain": [
              "22"
            ]
          },
          "metadata": {},
          "execution_count": 26
        }
      ]
    },
    {
      "cell_type": "markdown",
      "source": [
        "Now try to write a function that reads a number N and returns the Nth Fibonacci number."
      ],
      "metadata": {
        "id": "8KL1PUGt81cZ"
      }
    },
    {
      "cell_type": "code",
      "source": [
        "def Fibonacci(N):\n",
        "  F1 = 1\n",
        "  F2 = 1\n",
        "  if N <= 2:\n",
        "    return 1\n",
        "  \n",
        "  for i in range(N - 2):\n",
        "    F1, F2 = F2, F1 + F2\n",
        "\n",
        "  return F2\n",
        "print(Fibonacci(3))"
      ],
      "metadata": {
        "id": "mEabqHWb80ak",
        "outputId": "d84e5f60-2ad4-4865-da4a-79cadad4b826",
        "colab": {
          "base_uri": "https://localhost:8080/"
        }
      },
      "execution_count": null,
      "outputs": [
        {
          "output_type": "stream",
          "name": "stdout",
          "text": [
            "2\n"
          ]
        }
      ]
    }
  ]
}